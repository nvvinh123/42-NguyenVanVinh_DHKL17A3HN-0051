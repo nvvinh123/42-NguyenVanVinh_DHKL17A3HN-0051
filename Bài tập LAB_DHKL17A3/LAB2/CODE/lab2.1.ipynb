{
 "cells": [
  {
   "cell_type": "markdown",
   "metadata": {},
   "source": [
    "## 1. Tạo Dữ Liệu Mô Phỏng Nhiệt Độ: (10 phút)\n",
    "###  Hãy tạo một mảng Numpy mô phỏng dữ liệu nhiệt độ hàng ngày trong một tháng là\n",
    "### số thực. Làm tròn dữ liệu đến 2 chữ số sau dấu phẩy\n",
    "###  Cho biết nhiệt độ trung bình trong tháng là bao nhiêu?\n"
   ]
  },
  {
   "cell_type": "code",
   "execution_count": 1,
   "metadata": {},
   "outputs": [
    {
     "name": "stdout",
     "output_type": "stream",
     "text": [
      "nhiệt dộ trong tháng: \n",
      " [13.07 29.71 26.71 22.06 12.15 14.86 16.42 19.41 12.8  29.02 19.38 16.03\n",
      " 17.01 27.02 17.5  21.36 11.24 16.58 10.88 25.5  17.22 18.55 29.3  24.19\n",
      " 28.18 17.5  14.64 20.6  11.55 15.36]\n",
      "trung bình nhiệt độ trong tháng là:  19.193333333333335\n"
     ]
    }
   ],
   "source": [
    "import numpy as np \n",
    "nhiet_do = np.round(np.random.uniform(10.0, 30.0, size=30),2)\n",
    "print(\"nhiệt dộ trong tháng: \\n\",nhiet_do)\n",
    "print(\"trung bình nhiệt độ trong tháng là: \",np.mean(nhiet_do)\n",
    ")"
   ]
  },
  {
   "cell_type": "markdown",
   "metadata": {},
   "source": [
    "## 2. Phân Tích Xu Hướng Nhiệt Độ: (5-10 phút)\n",
    "###  Xác định ngày có nhiệt độ cao nhất, thấp nhất cho biết đó là ngày thứ mấy trong tháng?\n",
    "###  Thống kê sự chênh lệch nhiệt độ giữa các ngày, tìm ngày có sự biến đổi nhiệt độ cao nhất?\n"
   ]
  },
  {
   "cell_type": "code",
   "execution_count": 3,
   "metadata": {},
   "outputs": [
    {
     "name": "stdout",
     "output_type": "stream",
     "text": [
      "Nhiệt độ cao nhất: 29.71 độ C vào ngày 2\n",
      "Nhiệt độ thấp nhất: 10.88 độ C vào ngày 19\n",
      "Ngày có sự biến đổi nhiệt độ lớn nhất: ngày 1 với chênh lệch 16.64 độ C\n"
     ]
    }
   ],
   "source": [
    "ngay_nhiet_do_max = np.argmax(nhiet_do) + 1 \n",
    "ngay_nhiet_do_min = np.argmin(nhiet_do) + 1\n",
    "print(f\"Nhiệt độ cao nhất: {nhiet_do.max()} độ C vào ngày {ngay_nhiet_do_max}\")\n",
    "print(f\"Nhiệt độ thấp nhất: {nhiet_do.min()} độ C vào ngày {ngay_nhiet_do_min}\")\n",
    "\n",
    "chenh_lech = np.abs(np.diff(nhiet_do))\n",
    "ngay_chenh_lech_max = np.argmax(chenh_lech) + 1 \n",
    "print(f\"Ngày có sự biến đổi nhiệt độ lớn nhất: ngày {ngay_chenh_lech_max} với chênh lệch {chenh_lech.max():.2f} độ C\")"
   ]
  },
  {
   "cell_type": "markdown",
   "metadata": {},
   "source": [
    "## 3. Áp dụng Fancy Indexing: (10 phút)\n",
    "### -Đưa ra tất cả các ngày có nhiệt độ cao hơn 20 độ C.\n",
    "### -Lấy nhiệt độ của ngày 5, 10, 15, 20, và 25.\n",
    "### -Tìm nhiệt độ của các ngày có nhiệt độ trên trung bình.\n",
    "### -Lấy nhiệt độ của các ngày chẵn/lẻ trong tháng."
   ]
  },
  {
   "cell_type": "code",
   "execution_count": 10,
   "metadata": {},
   "outputs": [
    {
     "name": "stdout",
     "output_type": "stream",
     "text": [
      "ngày có nhiệt độ trên 20 độ C là: [ 2  3  4 10 14 16 20 23 24 25 28]\n",
      "Nhiệt độ các ngày 5, 10, 15, 20, 25: [12.15 29.02 17.5  25.5  28.18]\n",
      "Các ngày có nhiệt độ trên trung bình (19.19 độ C): [ 2  3  4  8 10 11 14 16 20 23 24 25 28]\n",
      "Nhiệt độ các ngày chẵn: [29.71 22.06 14.86 19.41 29.02 16.03 27.02 21.36 16.58 25.5  18.55 24.19\n",
      " 17.5  20.6  15.36]\n",
      "Nhiệt độ các ngày lẻ: [13.07 26.71 12.15 16.42 12.8  19.38 17.01 17.5  11.24 10.88 17.22 29.3\n",
      " 28.18 14.64 11.55]\n"
     ]
    }
   ],
   "source": [
    "condition = nhiet_do > 20\n",
    "indices = np.where(condition)\n",
    "day_indices = indices[0]\n",
    "days_above_20_separated = day_indices +1\n",
    "print(\"ngày có nhiệt độ trên 20 độ C là:\", days_above_20_separated)\n",
    "\n",
    "\n",
    "ngay_chon = [5, 10, 15, 20, 25]\n",
    "nhiet_do_chon = nhiet_do[np.array(ngay_chon) - 1]\n",
    "print(f\"Nhiệt độ các ngày 5, 10, 15, 20, 25: {nhiet_do_chon}\")\n",
    "\n",
    "nhiet_do_tb = np.mean(nhiet_do)\n",
    "ngay_tren_tb = np.where(nhiet_do > nhiet_do_tb)[0] + 1\n",
    "print(f\"Các ngày có nhiệt độ trên trung bình ({nhiet_do_tb:.2f} độ C): {ngay_tren_tb}\")\n",
    "\n",
    "nhiet_do_chan = nhiet_do[1::2] \n",
    "nhiet_do_le = nhiet_do[0::2]    \n",
    "print(f\"Nhiệt độ các ngày chẵn: {nhiet_do_chan}\")\n",
    "print(f\"Nhiệt độ các ngày lẻ: {nhiet_do_le}\")"
   ]
  }
 ],
 "metadata": {
  "kernelspec": {
   "display_name": "Python 3",
   "language": "python",
   "name": "python3"
  },
  "language_info": {
   "codemirror_mode": {
    "name": "ipython",
    "version": 3
   },
   "file_extension": ".py",
   "mimetype": "text/x-python",
   "name": "python",
   "nbconvert_exporter": "python",
   "pygments_lexer": "ipython3",
   "version": "3.11.5"
  }
 },
 "nbformat": 4,
 "nbformat_minor": 2
}
