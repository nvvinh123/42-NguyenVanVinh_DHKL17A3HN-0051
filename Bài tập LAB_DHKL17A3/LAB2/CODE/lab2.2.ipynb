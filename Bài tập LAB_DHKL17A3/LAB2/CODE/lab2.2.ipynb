{
 "cells": [
  {
   "cell_type": "markdown",
   "metadata": {},
   "source": [
    "1. Đọc Dữ Liệu Từ File CSV: (10 phút)\n",
    " Đọc dữ liệu điểm số từ file 'diem_hp.csv' vào một list.\n",
    " Chuyển đổi list này thành một mảng NumPy để thực hiện các phân tích"
   ]
  },
  {
   "cell_type": "code",
   "execution_count": 24,
   "metadata": {},
   "outputs": [
    {
     "data": {
      "text/plain": [
       "array([[3.04, 3.39, 6.7 ],\n",
       "       [5.8 , 6.41, 6.62],\n",
       "       [2.59, 3.57, 9.16],\n",
       "       [3.81, 8.78, 9.24],\n",
       "       [8.91, 9.64, 6.39],\n",
       "       [3.23, 4.72, 6.17],\n",
       "       [2.35, 3.29, 6.89],\n",
       "       [2.48, 3.81, 4.84],\n",
       "       [3.23, 2.61, 4.52],\n",
       "       [7.02, 9.01, 9.15],\n",
       "       [2.29, 4.48, 5.51],\n",
       "       [3.51, 7.19, 5.13],\n",
       "       [6.74, 7.78, 6.19],\n",
       "       [9.86, 4.64, 3.33],\n",
       "       [8.04, 5.12, 4.77],\n",
       "       [2.74, 8.88, 5.8 ],\n",
       "       [3.04, 6.88, 3.91],\n",
       "       [5.87, 4.41, 8.84],\n",
       "       [8.46, 2.63, 4.91],\n",
       "       [3.74, 6.71, 3.44],\n",
       "       [5.67, 8.05, 6.03],\n",
       "       [8.12, 2.46, 3.87],\n",
       "       [9.4 , 5.31, 5.13],\n",
       "       [3.91, 5.09, 8.82],\n",
       "       [4.26, 5.78, 8.14],\n",
       "       [4.41, 2.66, 5.4 ],\n",
       "       [3.23, 8.3 , 8.64],\n",
       "       [9.25, 8.29, 9.1 ],\n",
       "       [6.08, 2.67, 6.39],\n",
       "       [3.85, 7.71, 5.75]])"
      ]
     },
     "execution_count": 24,
     "metadata": {},
     "output_type": "execute_result"
    }
   ],
   "source": [
    "import csv\n",
    "import pandas as pd\n",
    "import numpy as np\n",
    "file_path = 'D:\\DHKL17A3\\LAB2\\DATA\\diem_hoc_phan.csv'\n",
    "data_list = []\n",
    "with open(file_path, mode='r', encoding='utf-8') as file:\n",
    "    csv_reader = csv.reader(file)\n",
    "    header = next(csv_reader, None)\n",
    "    for row in csv_reader:\n",
    "        try:\n",
    "            data_list.append([float(row[2]), float(row[3]), float(row[4])])\n",
    "        except ValueError:\n",
    "            continue\n",
    "data_array = np.array(data_list)\n",
    "data_array"
   ]
  },
  {
   "cell_type": "markdown",
   "metadata": {},
   "source": [
    "2. Qui đổi từ thang điểm 10 sang điểm tín chỉ: "
   ]
  },
  {
   "cell_type": "code",
   "execution_count": 38,
   "metadata": {},
   "outputs": [
    {
     "data": {
      "text/plain": [
       "array([['F', 'F', 'C+'],\n",
       "       ['C', 'F', 'C+'],\n",
       "       ['F', 'F', 'A'],\n",
       "       ['F', 'A', 'A'],\n",
       "       ['A', 'A', 'F'],\n",
       "       ['F', 'D', 'F'],\n",
       "       ['F', 'F', 'C+'],\n",
       "       ['F', 'F', 'D'],\n",
       "       ['F', 'F', 'D'],\n",
       "       ['B', 'A', 'A'],\n",
       "       ['F', 'D', 'C'],\n",
       "       ['F', 'B', 'D+'],\n",
       "       ['C+', 'B', 'F'],\n",
       "       ['A', 'D', 'F'],\n",
       "       ['B+', 'D+', 'D'],\n",
       "       ['F', 'A', 'C'],\n",
       "       ['F', 'C+', 'F'],\n",
       "       ['C', 'D', 'A'],\n",
       "       ['F', 'F', 'D'],\n",
       "       ['F', 'C+', 'F'],\n",
       "       ['C', 'B+', 'F'],\n",
       "       ['B+', 'F', 'F'],\n",
       "       ['A', 'D+', 'D+'],\n",
       "       ['F', 'D+', 'A'],\n",
       "       ['D', 'C', 'B+'],\n",
       "       ['D', 'F', 'D+'],\n",
       "       ['F', 'B+', 'A'],\n",
       "       ['A', 'B+', 'A'],\n",
       "       ['F', 'F', 'F'],\n",
       "       ['F', 'B', 'C']], dtype='<U2')"
      ]
     },
     "execution_count": 38,
     "metadata": {},
     "output_type": "execute_result"
    }
   ],
   "source": [
    "def doi_diem(diem):\n",
    "    if 8.5 <= diem <= 10:\n",
    "        return 'A'\n",
    "    elif 8.0 <= diem <= 8.4:\n",
    "        return 'B+'\n",
    "    elif 7.0 <= diem <= 8:\n",
    "        return 'B'\n",
    "    elif 6.5 <= diem <= 7:\n",
    "        return 'C+'\n",
    "    elif 5.5 <= diem <= 6:\n",
    "        return 'C'\n",
    "    elif 5.0 <= diem <= 5.5:\n",
    "        return 'D+'\n",
    "    elif 4.0 <= diem <= 5:\n",
    "        return 'D'\n",
    "    else: \n",
    "        return 'F'\n",
    "\n",
    "quy_doi_diem = np.vectorize(doi_diem)(data_array)\n",
    "quy_doi_diem"
   ]
  },
  {
   "cell_type": "markdown",
   "metadata": {},
   "source": [
    "3. Chia tách Dữ Liệu theo học phần để phân tích : (5-10 phút)\n",
    "Chia tách dữ liệu để phân tích điểm số của mỗi học phần riêng biệt"
   ]
  },
  {
   "cell_type": "code",
   "execution_count": 30,
   "metadata": {},
   "outputs": [
    {
     "data": {
      "text/plain": [
       "array([6.7 , 6.62, 9.16, 9.24, 6.39, 6.17, 6.89, 4.84, 4.52, 9.15, 5.51,\n",
       "       5.13, 6.19, 3.33, 4.77, 5.8 , 3.91, 8.84, 4.91, 3.44, 6.03, 3.87,\n",
       "       5.13, 8.82, 8.14, 5.4 , 8.64, 9.1 , 6.39, 5.75])"
      ]
     },
     "execution_count": 30,
     "metadata": {},
     "output_type": "execute_result"
    }
   ],
   "source": [
    "hp1 = data_array[:,0] \n",
    "hp2 = data_array[:,1] \n",
    "hp3 = data_array[:,2]\n",
    "hp1\n",
    "hp2\n",
    "hp3"
   ]
  },
  {
   "cell_type": "markdown",
   "metadata": {},
   "source": [
    "4. Phân tích dữ liệu theo từng học phần : (10-15 phút)\n",
    "Phân tích tổng, trung bình, và độ lệch chuẩn cho mỗi học phần"
   ]
  },
  {
   "cell_type": "code",
   "execution_count": 31,
   "metadata": {},
   "outputs": [
    {
     "name": "stdout",
     "output_type": "stream",
     "text": [
      "\n",
      "Thống kê:\n",
      "            HP 1        HP 2        HP 3\n",
      "sum   154.930000  170.270000  188.780000\n",
      "mean    5.164333    5.675667    6.292667\n",
      "std     2.449015    2.287932    1.839141\n"
     ]
    }
   ],
   "source": [
    "df = pd.DataFrame(data_array, columns=['HP 1', 'HP 2', 'HP 3']) \n",
    "thong_ke = df.agg(['sum', 'mean', 'std']) \n",
    "print(\"\\nThống kê:\") \n",
    "print(thong_ke)"
   ]
  },
  {
   "cell_type": "markdown",
   "metadata": {},
   "source": [
    "5. Phân tích điểm tổng hợp. (5-10 phút)\n",
    "Tính toán số lượng sinh viên đạt từng loại điểm chữ (A, B+, B,...) trên tổng số học phần."
   ]
  },
  {
   "cell_type": "code",
   "execution_count": 39,
   "metadata": {},
   "outputs": [
    {
     "name": "stdout",
     "output_type": "stream",
     "text": [
      "Điểm chữ\n",
      "A     15\n",
      "B      4\n",
      "B+     6\n",
      "C      7\n",
      "C+     6\n",
      "D     10\n",
      "D+     6\n",
      "F     36\n",
      "Name: count, dtype: int64\n"
     ]
    }
   ],
   "source": [
    "flattened = quy_doi_diem.flatten() \n",
    "df = pd.DataFrame(flattened, columns=['Điểm chữ']) \n",
    "summary = df['Điểm chữ'].value_counts().sort_index() \n",
    "print(summary)"
   ]
  }
 ],
 "metadata": {
  "kernelspec": {
   "display_name": "Python 3",
   "language": "python",
   "name": "python3"
  },
  "language_info": {
   "codemirror_mode": {
    "name": "ipython",
    "version": 3
   },
   "file_extension": ".py",
   "mimetype": "text/x-python",
   "name": "python",
   "nbconvert_exporter": "python",
   "pygments_lexer": "ipython3",
   "version": "3.11.5"
  }
 },
 "nbformat": 4,
 "nbformat_minor": 2
}
