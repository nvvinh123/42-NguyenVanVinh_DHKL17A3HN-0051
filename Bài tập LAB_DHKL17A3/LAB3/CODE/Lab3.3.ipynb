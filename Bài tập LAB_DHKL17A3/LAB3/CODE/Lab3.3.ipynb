{
 "cells": [
  {
   "cell_type": "markdown",
   "metadata": {},
   "source": [
    "LAB 3.3. GỘP DỮ LIỆU VÀ PHÂN TÍCH CƠ BẢN"
   ]
  },
  {
   "cell_type": "code",
   "execution_count": 1,
   "metadata": {},
   "outputs": [
    {
     "name": "stdout",
     "output_type": "stream",
     "text": [
      "       date symbol     open     high      low    close   volume\n",
      "0  01-03-19   AMZN  1655.13  1674.26  1651.00  1671.73  4974877\n",
      "1  04-03-19   AMZN  1685.00  1709.43  1674.36  1696.17  6167358\n",
      "2  05-03-19   AMZN  1702.95  1707.80  1689.01  1692.43  3681522\n",
      "3  06-03-19   AMZN  1695.97      NaN      NaN  1668.95  3996001\n",
      "4  07-03-19   AMZN  1667.37  1669.75  1620.51  1625.95  4957017\n"
     ]
    }
   ],
   "source": [
    "import numpy as np\n",
    "import pandas as pd\n",
    "stocks1 = pd.read_csv(r'D:\\42-Nguyễn Văn Vinh-DHKL17A3HN-0051\\Bài tập LAB_DHKL17A3\\LAB3\\DATA\\stocks1.csv')\n",
    "print(stocks1.head())"
   ]
  },
  {
   "cell_type": "markdown",
   "metadata": {},
   "source": [
    "1. Đọc file stocks2.csv vào DataFrame stocks2."
   ]
  },
  {
   "cell_type": "code",
   "execution_count": 2,
   "metadata": {},
   "outputs": [
    {
     "name": "stdout",
     "output_type": "stream",
     "text": [
      "       date symbol    open     high     low   close    volume\n",
      "0  01-03-19     FB  162.60  163.132  161.69  162.28  11097770\n",
      "1  04-03-19     FB  163.90  167.500  163.83  167.37  18894689\n",
      "2  05-03-19     FB  167.37  171.880  166.55  171.26  28187890\n",
      "3  06-03-19     FB  172.90  173.570  171.27  172.51  21531723\n",
      "4  07-03-19     FB  171.50  171.740  167.61  169.13  18306504\n"
     ]
    }
   ],
   "source": [
    "stocks2 = pd.read_csv(r'D:\\42-Nguyễn Văn Vinh-DHKL17A3HN-0051\\Bài tập LAB_DHKL17A3\\LAB3\\DATA\\stocks2.csv')\n",
    "print(stocks2.head())"
   ]
  },
  {
   "cell_type": "markdown",
   "metadata": {},
   "source": [
    "2. Gộp stocks1 và stocks2 thành DataFrame mới tên là stocks."
   ]
  },
  {
   "cell_type": "code",
   "execution_count": 3,
   "metadata": {},
   "outputs": [
    {
     "name": "stdout",
     "output_type": "stream",
     "text": [
      "        date symbol     open       high      low    close    volume\n",
      "0   01-03-19   AMZN  1655.13  1674.2600  1651.00  1671.73   4974877\n",
      "1   04-03-19   AMZN  1685.00  1709.4300  1674.36  1696.17   6167358\n",
      "2   05-03-19   AMZN  1702.95  1707.8000  1689.01  1692.43   3681522\n",
      "3   06-03-19   AMZN  1695.97        NaN      NaN  1668.95   3996001\n",
      "4   07-03-19   AMZN  1667.37  1669.7500  1620.51  1625.95   4957017\n",
      "5   01-03-19   AAPL   174.28   175.1500   172.89   174.97  25886167\n",
      "6   04-03-19   AAPL   175.69   177.7500   173.97   175.85  27436203\n",
      "7   05-03-19   AAPL   175.94   176.0000   174.54   175.53  19737419\n",
      "8   06-03-19   AAPL   174.67   175.4900   173.94   174.52  20810384\n",
      "9   07-03-19   AAPL   173.87   174.4400   172.02   172.50  24796374\n",
      "10  01-03-19   GOOG  1124.90  1142.9700  1124.75  1140.99   1450316\n",
      "11  04-03-19   GOOG  1146.99  1158.2800  1130.69  1147.80   1446047\n",
      "12  05-03-19   GOOG  1150.06        NaN      NaN  1162.03   1443174\n",
      "13  06-03-19   GOOG  1162.49  1167.5700  1155.49  1157.86   1099289\n",
      "14  07-03-19   GOOG  1155.72  1156.7600  1134.91  1143.30   1166559\n",
      "15  01-03-19     FB   162.60   163.1320   161.69   162.28  11097770\n",
      "16  04-03-19     FB   163.90   167.5000   163.83   167.37  18894689\n",
      "17  05-03-19     FB   167.37   171.8800   166.55   171.26  28187890\n",
      "18  06-03-19     FB   172.90   173.5700   171.27   172.51  21531723\n",
      "19  07-03-19     FB   171.50   171.7400   167.61   169.13  18306504\n",
      "20  01-03-19   TSLA   306.94   307.1300   291.90   294.79  22911375\n",
      "21  04-03-19   TSLA   298.12   299.0000   282.78   285.36  17096818\n",
      "22  05-03-19   TSLA   282.00   284.0000   270.10   276.54  18764740\n",
      "23  06-03-19   TSLA   276.48   281.5058   274.39   276.24  10335485\n",
      "24  07-03-19   TSLA   278.84   284.7000   274.25   276.59   9442483\n"
     ]
    }
   ],
   "source": [
    "stocks = pd.concat([stocks1, stocks2], ignore_index=True)\n",
    "print(stocks)"
   ]
  },
  {
   "cell_type": "markdown",
   "metadata": {},
   "source": [
    "3. Tính giá trung bình (open, high, low, close) cho mỗi ngày."
   ]
  },
  {
   "cell_type": "code",
   "execution_count": 4,
   "metadata": {},
   "outputs": [],
   "source": [
    "avg_prices = stocks.groupby('date')[['open', 'high', 'low', 'close']].mean()"
   ]
  },
  {
   "cell_type": "markdown",
   "metadata": {},
   "source": [
    "4. Hiển thị 5 dòng đầu tiên của kết quả."
   ]
  },
  {
   "cell_type": "code",
   "execution_count": 5,
   "metadata": {},
   "outputs": [
    {
     "name": "stdout",
     "output_type": "stream",
     "text": [
      "5 dòng đầu tiên của kq:\n",
      "       date symbol     open     high      low    close   volume\n",
      "0  01-03-19   AMZN  1655.13  1674.26  1651.00  1671.73  4974877\n",
      "1  04-03-19   AMZN  1685.00  1709.43  1674.36  1696.17  6167358\n",
      "2  05-03-19   AMZN  1702.95  1707.80  1689.01  1692.43  3681522\n",
      "3  06-03-19   AMZN  1695.97      NaN      NaN  1668.95  3996001\n",
      "4  07-03-19   AMZN  1667.37  1669.75  1620.51  1625.95  4957017\n"
     ]
    }
   ],
   "source": [
    "print(\"5 dòng đầu tiên của kq:\")\n",
    "print(stocks.head())"
   ]
  }
 ],
 "metadata": {
  "kernelspec": {
   "display_name": "Python 3",
   "language": "python",
   "name": "python3"
  },
  "language_info": {
   "codemirror_mode": {
    "name": "ipython",
    "version": 3
   },
   "file_extension": ".py",
   "mimetype": "text/x-python",
   "name": "python",
   "nbconvert_exporter": "python",
   "pygments_lexer": "ipython3",
   "version": "3.11.5"
  }
 },
 "nbformat": 4,
 "nbformat_minor": 2
}
