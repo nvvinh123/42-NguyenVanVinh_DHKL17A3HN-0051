{
 "cells": [
  {
   "cell_type": "markdown",
   "metadata": {},
   "source": [
    "LAB 3.5: SỬ DỤNG MULTIINDEX VÀ GROUPBY"
   ]
  },
  {
   "cell_type": "code",
   "execution_count": 3,
   "metadata": {},
   "outputs": [],
   "source": [
    "import numpy as np\n",
    "import pandas as pd"
   ]
  },
  {
   "cell_type": "code",
   "execution_count": 1,
   "metadata": {},
   "outputs": [
    {
     "ename": "NameError",
     "evalue": "name 'pd' is not defined",
     "output_type": "error",
     "traceback": [
      "\u001b[1;31m---------------------------------------------------------------------------\u001b[0m",
      "\u001b[1;31mNameError\u001b[0m                                 Traceback (most recent call last)",
      "Cell \u001b[1;32mIn[1], line 1\u001b[0m\n\u001b[1;32m----> 1\u001b[0m stocks1 \u001b[38;5;241m=\u001b[39m \u001b[43mpd\u001b[49m\u001b[38;5;241m.\u001b[39mread_csv(\u001b[38;5;124m'\u001b[39m\u001b[38;5;124mD:\u001b[39m\u001b[38;5;130;01m\\42\u001b[39;00m\u001b[38;5;124m-Nguyễn Văn Vinh-DHKL17A3HN-0051\u001b[39m\u001b[38;5;124m\\\u001b[39m\u001b[38;5;124mBài tập LAB_DHKL17A3\u001b[39m\u001b[38;5;124m\\\u001b[39m\u001b[38;5;124mLAB3\u001b[39m\u001b[38;5;124m\\\u001b[39m\u001b[38;5;124mDATA\u001b[39m\u001b[38;5;124m\\\u001b[39m\u001b[38;5;124mstocks1.csv\u001b[39m\u001b[38;5;124m'\u001b[39m)\n\u001b[0;32m      2\u001b[0m \u001b[38;5;28mprint\u001b[39m(stocks1\u001b[38;5;241m.\u001b[39mhead())\n\u001b[0;32m      3\u001b[0m stocks2 \u001b[38;5;241m=\u001b[39m pd\u001b[38;5;241m.\u001b[39mread_csv(\u001b[38;5;124m'\u001b[39m\u001b[38;5;124mD:\u001b[39m\u001b[38;5;130;01m\\42\u001b[39;00m\u001b[38;5;124m-Nguyễn Văn Vinh-DHKL17A3HN-0051\u001b[39m\u001b[38;5;124m\\\u001b[39m\u001b[38;5;124mBài tập LAB_DHKL17A3\u001b[39m\u001b[38;5;124m\\\u001b[39m\u001b[38;5;124mLAB3\u001b[39m\u001b[38;5;124m\\\u001b[39m\u001b[38;5;124mDATA\u001b[39m\u001b[38;5;124m\\\u001b[39m\u001b[38;5;124mstocks2.csv\u001b[39m\u001b[38;5;124m'\u001b[39m)\n",
      "\u001b[1;31mNameError\u001b[0m: name 'pd' is not defined"
     ]
    }
   ],
   "source": [
    "stocks1 = pd.read_csv('D:\\42-Nguyễn Văn Vinh-DHKL17A3HN-0051\\Bài tập LAB_DHKL17A3\\LAB3\\DATA\\stocks1.csv')\n",
    "print(stocks1.head())\n",
    "stocks2 = pd.read_csv('D:\\42-Nguyễn Văn Vinh-DHKL17A3HN-0051\\Bài tập LAB_DHKL17A3\\LAB3\\DATA\\stocks2.csv')\n",
    "print(stocks2.head())\n",
    "companies = pd.read_csv('D:\\42-Nguyễn Văn Vinh-DHKL17A3HN-0051\\Bài tập LAB_DHKL17A3\\LAB3\\DATA\\companies.csv')\n",
    "print(companies.head())\n",
    "stocks = pd.concat([stocks1, stocks2], ignore_index=True)\n",
    "stocks_companies = pd.merge(stocks, companies, left_on='symbol', right_on='name', how='inner')\n"
   ]
  },
  {
   "cell_type": "markdown",
   "metadata": {},
   "source": [
    "1. Tạo MultiIndex cho DataFrame stocks bằng cách sử dụng cột date và symbol làm \n",
    "chỉ mục."
   ]
  },
  {
   "cell_type": "code",
   "execution_count": 2,
   "metadata": {},
   "outputs": [
    {
     "ename": "NameError",
     "evalue": "name 'pd' is not defined",
     "output_type": "error",
     "traceback": [
      "\u001b[1;31m---------------------------------------------------------------------------\u001b[0m",
      "\u001b[1;31mNameError\u001b[0m                                 Traceback (most recent call last)",
      "Cell \u001b[1;32mIn[2], line 1\u001b[0m\n\u001b[1;32m----> 1\u001b[0m stocks[\u001b[38;5;124m'\u001b[39m\u001b[38;5;124mdate\u001b[39m\u001b[38;5;124m'\u001b[39m] \u001b[38;5;241m=\u001b[39m \u001b[43mpd\u001b[49m\u001b[38;5;241m.\u001b[39mto_datetime(stocks[\u001b[38;5;124m'\u001b[39m\u001b[38;5;124mdate\u001b[39m\u001b[38;5;124m'\u001b[39m])\n\u001b[0;32m      2\u001b[0m stocks\u001b[38;5;241m.\u001b[39mset_index([\u001b[38;5;124m'\u001b[39m\u001b[38;5;124mdate\u001b[39m\u001b[38;5;124m'\u001b[39m, \u001b[38;5;124m'\u001b[39m\u001b[38;5;124msymbol\u001b[39m\u001b[38;5;124m'\u001b[39m], inplace\u001b[38;5;241m=\u001b[39m\u001b[38;5;28;01mTrue\u001b[39;00m)\n",
      "\u001b[1;31mNameError\u001b[0m: name 'pd' is not defined"
     ]
    }
   ],
   "source": [
    "stocks['date'] = pd.to_datetime(stocks['date'])\n",
    "stocks.set_index(['date', 'symbol'], inplace=True)\n"
   ]
  },
  {
   "cell_type": "markdown",
   "metadata": {},
   "source": [
    "2. Sử dụng GroupBy để tính giá trung bình (open, high, low, close) và volume trung \n",
    "bình cho mỗi ngày, cho mỗi mã chứng khoán."
   ]
  },
  {
   "cell_type": "code",
   "execution_count": 3,
   "metadata": {},
   "outputs": [
    {
     "ename": "NameError",
     "evalue": "name 'stocks_companies' is not defined",
     "output_type": "error",
     "traceback": [
      "\u001b[1;31m---------------------------------------------------------------------------\u001b[0m",
      "\u001b[1;31mNameError\u001b[0m                                 Traceback (most recent call last)",
      "Cell \u001b[1;32mIn[3], line 1\u001b[0m\n\u001b[1;32m----> 1\u001b[0m nhom_stocks \u001b[38;5;241m=\u001b[39m \u001b[43mstocks_companies\u001b[49m\u001b[38;5;241m.\u001b[39mgroupby(\u001b[38;5;124m'\u001b[39m\u001b[38;5;124mname\u001b[39m\u001b[38;5;124m'\u001b[39m)\n\u001b[0;32m      3\u001b[0m gia_tri_tb \u001b[38;5;241m=\u001b[39m nhom_stocks\u001b[38;5;241m.\u001b[39magg({ \u001b[38;5;124m'\u001b[39m\u001b[38;5;124mopen\u001b[39m\u001b[38;5;124m'\u001b[39m: \u001b[38;5;124m'\u001b[39m\u001b[38;5;124mmean\u001b[39m\u001b[38;5;124m'\u001b[39m,\n\u001b[0;32m      4\u001b[0m                                \u001b[38;5;124m'\u001b[39m\u001b[38;5;124mhigh\u001b[39m\u001b[38;5;124m'\u001b[39m: \u001b[38;5;124m'\u001b[39m\u001b[38;5;124mmean\u001b[39m\u001b[38;5;124m'\u001b[39m,\n\u001b[0;32m      5\u001b[0m                                \u001b[38;5;124m'\u001b[39m\u001b[38;5;124mlow\u001b[39m\u001b[38;5;124m'\u001b[39m: \u001b[38;5;124m'\u001b[39m\u001b[38;5;124mmean\u001b[39m\u001b[38;5;124m'\u001b[39m,\n\u001b[0;32m      6\u001b[0m                                \u001b[38;5;124m'\u001b[39m\u001b[38;5;124mclose\u001b[39m\u001b[38;5;124m'\u001b[39m: \u001b[38;5;124m'\u001b[39m\u001b[38;5;124mmean\u001b[39m\u001b[38;5;124m'\u001b[39m,\n\u001b[0;32m      7\u001b[0m                                \u001b[38;5;124m'\u001b[39m\u001b[38;5;124mvolume\u001b[39m\u001b[38;5;124m'\u001b[39m: \u001b[38;5;124m'\u001b[39m\u001b[38;5;124mmean\u001b[39m\u001b[38;5;124m'\u001b[39m\n\u001b[0;32m      8\u001b[0m })\n\u001b[0;32m     10\u001b[0m \u001b[38;5;28mprint\u001b[39m(\u001b[38;5;124m\"\u001b[39m\u001b[38;5;124mGiá trung bình và volume trung bình của mỗi công ty:\u001b[39m\u001b[38;5;124m\"\u001b[39m)\n",
      "\u001b[1;31mNameError\u001b[0m: name 'stocks_companies' is not defined"
     ]
    }
   ],
   "source": [
    "nhom_stocks = stocks_companies.groupby('name')\n",
    "\n",
    "gia_tri_tb = nhom_stocks.agg({ 'open': 'mean',\n",
    "                               'high': 'mean',\n",
    "                               'low': 'mean',\n",
    "                               'close': 'mean',\n",
    "                               'volume': 'mean'\n",
    "})\n",
    "\n",
    "print(\"Giá trung bình và volume trung bình của mỗi công ty:\")\n",
    "print(gia_tri_tb)"
   ]
  },
  {
   "cell_type": "markdown",
   "metadata": {},
   "source": [
    "3. Sắp xếp dữ liệu theo ngày và mã chứng khoán."
   ]
  },
  {
   "cell_type": "code",
   "execution_count": 5,
   "metadata": {},
   "outputs": [],
   "source": [
    "sorted_data = stocks_companies.reset_index().sort_values(by=['date', 'symbol']).set_index(['date', 'symbol'])\n"
   ]
  },
  {
   "cell_type": "markdown",
   "metadata": {},
   "source": [
    "4. Hiển thị kết quả cho 5 ngày đầu tiên."
   ]
  },
  {
   "cell_type": "code",
   "execution_count": 6,
   "metadata": {},
   "outputs": [
    {
     "name": "stdout",
     "output_type": "stream",
     "text": [
      "Kết quả cho 5 ngày đầu tiên:\n",
      "                 index     open      high      low    close    volume  name  \\\n",
      "date     symbol                                                               \n",
      "01-03-19 AAPL        5   174.28   175.150   172.89   174.97  25886167  AAPL   \n",
      "         AMZN        0  1655.13  1674.260  1651.00  1671.73   4974877  AMZN   \n",
      "         FB         15   162.60   163.132   161.69   162.28  11097770    FB   \n",
      "         GOOG       10  1124.90  1142.970  1124.75  1140.99   1450316  GOOG   \n",
      "         TSLA       20   306.94   307.130   291.90   294.79  22911375  TSLA   \n",
      "\n",
      "                 employees headquarters_city headquarters_state  \n",
      "date     symbol                                                  \n",
      "01-03-19 AAPL       132000         Cupertino                 CA  \n",
      "         AMZN       613300           Seattle                 WA  \n",
      "         FB          48268        Menlo Park                 CA  \n",
      "         GOOG        98771     Mountain View                 CA  \n",
      "         TSLA        48016         Palo Alto                 CA  \n"
     ]
    }
   ],
   "source": [
    "print(\"Kết quả cho 5 ngày đầu tiên:\")\n",
    "print(sorted_data.head())"
   ]
  }
 ],
 "metadata": {
  "kernelspec": {
   "display_name": "Python 3",
   "language": "python",
   "name": "python3"
  },
  "language_info": {
   "codemirror_mode": {
    "name": "ipython",
    "version": 3
   },
   "file_extension": ".py",
   "mimetype": "text/x-python",
   "name": "python",
   "nbconvert_exporter": "python",
   "pygments_lexer": "ipython3",
   "version": "3.11.5"
  }
 },
 "nbformat": 4,
 "nbformat_minor": 2
}
